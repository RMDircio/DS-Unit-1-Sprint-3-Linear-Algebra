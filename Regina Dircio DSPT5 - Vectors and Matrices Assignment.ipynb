{
  "nbformat": 4,
  "nbformat_minor": 0,
  "metadata": {
    "colab": {
      "name": "Regina Dircio DSPT5 - Vectors and Matrices Assignment.ipynb",
      "provenance": [],
      "collapsed_sections": [],
      "include_colab_link": true
    },
    "kernelspec": {
      "name": "python3",
      "display_name": "Python 3"
    }
  },
  "cells": [
    {
      "cell_type": "markdown",
      "metadata": {
        "id": "view-in-github",
        "colab_type": "text"
      },
      "source": [
        "<a href=\"https://colab.research.google.com/github/RMDircio/DS-Unit-1-Sprint-3-Linear-Algebra/blob/master/Regina%20Dircio%20DSPT5%20-%20Vectors%20and%20Matrices%20Assignment.ipynb\" target=\"_parent\"><img src=\"https://colab.research.google.com/assets/colab-badge.svg\" alt=\"Open In Colab\"/></a>"
      ]
    },
    {
      "cell_type": "markdown",
      "metadata": {
        "id": "yXA3GwWhY9KL",
        "colab_type": "text"
      },
      "source": [
        "# Part 1 - Scalars and Vectors\n",
        "\n",
        "For the questions below it is not sufficient to simply provide answer to the questions, but you must solve the problems and show your work using python (the NumPy library will help a lot!) Translate the vectors and matrices into their appropriate python  representations and use numpy or functions that you write yourself to demonstrate the result or property. "
      ]
    },
    {
      "cell_type": "markdown",
      "metadata": {
        "id": "oNOTv43_Zi9L",
        "colab_type": "text"
      },
      "source": [
        "## 1.1 Create a two-dimensional vector and plot it on a graph"
      ]
    },
    {
      "cell_type": "code",
      "metadata": {
        "id": "1qu_v9UKLt2W",
        "colab_type": "code",
        "colab": {}
      },
      "source": [
        "import math\n",
        "import numpy as np\n",
        "import pandas as pd\n",
        "from math import e, pi\n",
        "import matplotlib.pyplot as plt\n",
        "from mpl_toolkits.mplot3d import Axes3D\n"
      ],
      "execution_count": 0,
      "outputs": []
    },
    {
      "cell_type": "code",
      "metadata": {
        "id": "XNqjzQzrkVG7",
        "colab_type": "code",
        "outputId": "f763b506-c873-4598-b220-ec1da25b6b22",
        "colab": {
          "base_uri": "https://localhost:8080/",
          "height": 265
        }
      },
      "source": [
        "# a 2D vector\n",
        "truck = np.array([7, 12])\n",
        "\n",
        "# graph the vector\n",
        "fig, ax = plt.subplots()\n",
        "ax.grid()\n",
        "plt.xlim(-.2,15)\n",
        "plt.ylim(-.1, 15)\n",
        "\n",
        "plt.arrow(0, 0, \n",
        "          truck[0], \n",
        "          truck[1], \n",
        "          head_width=0.5, \n",
        "          head_length=0.5,\n",
        "          linewidth=3,\n",
        "          color = 'LightCoral',\n",
        "           length_includes_head=True)\n",
        "plt.show()"
      ],
      "execution_count": 2,
      "outputs": [
        {
          "output_type": "display_data",
          "data": {
            "image/png": "[encoded data removed]",
            "text/plain": [
              "<Figure size 432x288 with 1 Axes>"
            ]
          },
          "metadata": {
            "tags": []
          }
        }
      ]
    },
    {
      "cell_type": "markdown",
      "metadata": {
        "id": "unKFT619lk3e",
        "colab_type": "text"
      },
      "source": [
        "## 1.2 Create a three-dimensional vecor and plot it on a graph"
      ]
    },
    {
      "cell_type": "markdown",
      "metadata": {
        "id": "eSsHmxuvbW9H",
        "colab_type": "text"
      },
      "source": [
        "First try with code:\n"
      ]
    },
    {
      "cell_type": "code",
      "metadata": {
        "id": "jJAYHzTbb1kk",
        "colab_type": "code",
        "colab": {
          "base_uri": "https://localhost:8080/",
          "height": 33
        },
        "outputId": "5decd497-8a29-442a-a53d-7e960d126ff0"
      },
      "source": [
        "# a 3D vector\n",
        "b = ([3, 5, 4])\n",
        "b_vector = np.array([[0,0,0,\n",
        "                    b[0], b[1], b[2]]])\n",
        "b_vector"
      ],
      "execution_count": 3,
      "outputs": [
        {
          "output_type": "execute_result",
          "data": {
            "text/plain": [
              "array([[0, 0, 0, 3, 5, 4]])"
            ]
          },
          "metadata": {
            "tags": []
          },
          "execution_count": 3
        }
      ]
    },
    {
      "cell_type": "code",
      "metadata": {
        "id": "4DUUCWxxb5T-",
        "colab_type": "code",
        "colab": {
          "base_uri": "https://localhost:8080/",
          "height": 117
        },
        "outputId": "83f64abb-3c30-44f0-cb5b-afc36495f2cc"
      },
      "source": [
        "# unzip the 3D vector\n",
        "U, V, W, X, Y, Z = zip(*b_vector)\n",
        "for letter in [U, V, W, X, Y, Z]:\n",
        "  print(letter)\n",
        "  "
      ],
      "execution_count": 4,
      "outputs": [
        {
          "output_type": "stream",
          "text": [
            "(0,)\n",
            "(0,)\n",
            "(0,)\n",
            "(3,)\n",
            "(5,)\n",
            "(4,)\n"
          ],
          "name": "stdout"
        }
      ]
    },
    {
      "cell_type": "code",
      "metadata": {
        "id": "03my-_dFbecR",
        "colab_type": "code",
        "colab": {
          "base_uri": "https://localhost:8080/",
          "height": 248
        },
        "outputId": "d3b591c8-0211-4530-faf4-80549a271dcb"
      },
      "source": [
        "# Graph the vector in 3D\n",
        "fig = plt.figure()\n",
        "ax = fig.add_subplot(111, projection='3d')\n",
        "ax.quiver(X, Y, Z, U, V, W, length=1, color='Plum', linewidth=6)\n",
        "ax.set_xlim([0, 8])\n",
        "ax.set_ylim([0, 8])\n",
        "ax.set_zlim([0, 8])\n",
        "ax.set_xlabel('X')\n",
        "ax.set_ylabel('Y')\n",
        "ax.set_zlabel('Z')\n",
        "plt.show()"
      ],
      "execution_count": 5,
      "outputs": [
        {
          "output_type": "display_data",
          "data": {
            "image/png": "[encoded data removed]",
            "text/plain": [
              "<Figure size 432x288 with 1 Axes>"
            ]
          },
          "metadata": {
            "tags": []
          }
        }
      ]
    },
    {
      "cell_type": "markdown",
      "metadata": {
        "id": "SFun_fQ5bnDT",
        "colab_type": "text"
      },
      "source": [
        "Second try with code:"
      ]
    },
    {
      "cell_type": "code",
      "metadata": {
        "id": "XyCTWjUdcrgA",
        "colab_type": "code",
        "colab": {}
      },
      "source": [
        "# a 3D vector\n",
        "\n",
        "plane = np.array([[0, 0, 0, 3, 5 , 4]])\n",
        "\n",
        "# plane_vector = np.array([[0,0,0, plane[0], plane[1], plane[2]]])\n"
      ],
      "execution_count": 0,
      "outputs": []
    },
    {
      "cell_type": "code",
      "metadata": {
        "id": "QrDyz-MWcvL1",
        "colab_type": "code",
        "colab": {
          "base_uri": "https://localhost:8080/",
          "height": 117
        },
        "outputId": "7aac6338-a2c4-4b4c-8308-8aadc05399da"
      },
      "source": [
        "\n",
        "# unzip the 3D vector\n",
        "U, V, W, X, Y, Z = zip(*plane)\n",
        "for letter in [U, V, W, X, Y, Z]:\n",
        "  print(letter)\n"
      ],
      "execution_count": 7,
      "outputs": [
        {
          "output_type": "stream",
          "text": [
            "(0,)\n",
            "(0,)\n",
            "(0,)\n",
            "(3,)\n",
            "(5,)\n",
            "(4,)\n"
          ],
          "name": "stdout"
        }
      ]
    },
    {
      "cell_type": "code",
      "metadata": {
        "id": "atUEd3T6llKm",
        "colab_type": "code",
        "outputId": "393a3a1b-978f-4d14-8e9d-482c97ebdbfd",
        "colab": {
          "base_uri": "https://localhost:8080/",
          "height": 248
        }
      },
      "source": [
        "# Graph the vector in 3D\n",
        "fig = plt.figure()\n",
        "ax = fig.add_subplot(111, projection='3d')\n",
        "ax.quiver(X[0], Y[0], Z[0], U[0], V[0], W[0], length=1, color='Plum', linewidth=6)\n",
        "ax.set_xlim([0, 8])\n",
        "ax.set_ylim([0, 8])\n",
        "ax.set_zlim([0, 8])\n",
        "ax.set_xlabel('X')\n",
        "ax.set_ylabel('Y')\n",
        "ax.set_zlabel('Z')\n",
        "plt.show()"
      ],
      "execution_count": 8,
      "outputs": [
        {
          "output_type": "display_data",
          "data": {
            "image/png": "[encoded data removed]",
            "text/plain": [
              "<Figure size 432x288 with 1 Axes>"
            ]
          },
          "metadata": {
            "tags": []
          }
        }
      ]
    },
    {
      "cell_type": "markdown",
      "metadata": {
        "id": "Abmoa52bdbgj",
        "colab_type": "text"
      },
      "source": [
        "Third try with lecture code"
      ]
    },
    {
      "cell_type": "code",
      "metadata": {
        "id": "iIhA2JB3daZf",
        "colab_type": "code",
        "colab": {
          "base_uri": "https://localhost:8080/",
          "height": 33
        },
        "outputId": "96dad5b2-8edd-4ab7-9f55-6c7b2df208b7"
      },
      "source": [
        "yellow = [ 0.5, 0.5, 0.5]\n",
        "vector = np.array([[0,0,0,\n",
        "                    yellow[0], yellow[1], yellow[2]]])\n",
        "\n",
        "vector"
      ],
      "execution_count": 9,
      "outputs": [
        {
          "output_type": "execute_result",
          "data": {
            "text/plain": [
              "array([[0. , 0. , 0. , 0.5, 0.5, 0.5]])"
            ]
          },
          "metadata": {
            "tags": []
          },
          "execution_count": 9
        }
      ]
    },
    {
      "cell_type": "code",
      "metadata": {
        "id": "9YygCAyBdiH6",
        "colab_type": "code",
        "colab": {
          "base_uri": "https://localhost:8080/",
          "height": 117
        },
        "outputId": "0a03673a-1ef4-442f-a625-9f73b51d4fe7"
      },
      "source": [
        "# unzip that vector\n",
        "\n",
        "X, Y, Z, U, V, W = zip(*vector)\n",
        "for letter in [X,Y,Z,U,V,W]:\n",
        "  print(letter)\n",
        "\n",
        "# first 3 are head of vector, last 3 are the tail"
      ],
      "execution_count": 10,
      "outputs": [
        {
          "output_type": "stream",
          "text": [
            "(0.0,)\n",
            "(0.0,)\n",
            "(0.0,)\n",
            "(0.5,)\n",
            "(0.5,)\n",
            "(0.5,)\n"
          ],
          "name": "stdout"
        }
      ]
    },
    {
      "cell_type": "code",
      "metadata": {
        "id": "BTBnhHGIdk72",
        "colab_type": "code",
        "colab": {
          "base_uri": "https://localhost:8080/",
          "height": 248
        },
        "outputId": "ceae502d-c597-4260-8caa-2300275611bd"
      },
      "source": [
        "# display that in 3D\n",
        "from mpl_toolkits.mplot3d import Axes3D\n",
        "\n",
        "fig = plt.figure()\n",
        "ax = fig.add_subplot(111, projection='3d')\n",
        "ax.quiver(X, Y, Z, U, V, W, length=1, color='gold', linewidth=6)\n",
        "ax.set_xlim([0, 1])\n",
        "ax.set_ylim([0, 1])\n",
        "ax.set_zlim([0, 1])\n",
        "ax.set_xlabel('X')\n",
        "ax.set_ylabel('Y')\n",
        "ax.set_zlabel('Z')\n",
        "plt.show()"
      ],
      "execution_count": 11,
      "outputs": [
        {
          "output_type": "display_data",
          "data": {
            "image/png": "[encoded data removed]",
            "text/plain": [
              "<Figure size 432x288 with 1 Axes>"
            ]
          },
          "metadata": {
            "tags": []
          }
        }
      ]
    },
    {
      "cell_type": "code",
      "metadata": {
        "id": "EmHfTWu__c9C",
        "colab_type": "code",
        "outputId": "aade6a6f-d266-4336-d2b4-342d04eee92c",
        "colab": {
          "base_uri": "https://localhost:8080/",
          "height": 248
        }
      },
      "source": [
        "# From Dan <3\n",
        "\n",
        "# indexes\n",
        "x = 0\n",
        "y = 1\n",
        "z = 2\n",
        "\n",
        "origin = [0,0,0]\n",
        "vec1 = [3,5,4]\n",
        "\n",
        "fig = plt.figure()\n",
        "ax = fig.add_subplot(111, projection='3d')\n",
        "ax.quiver(origin[x], origin[y], origin[z], vec1[x], vec1[y], vec1[z])\n",
        "ax.set_xlim(0,8)\n",
        "ax.set_ylim(0,8)\n",
        "ax.set_zlim(0,8)\n",
        "plt.show()"
      ],
      "execution_count": 12,
      "outputs": [
        {
          "output_type": "display_data",
          "data": {
            "image/png": "[encoded data removed]",
            "text/plain": [
              "<Figure size 432x288 with 1 Axes>"
            ]
          },
          "metadata": {
            "tags": []
          }
        }
      ]
    },
    {
      "cell_type": "markdown",
      "metadata": {
        "id": "b7qFxbKxZmI2",
        "colab_type": "text"
      },
      "source": [
        "## 1.3 Scale the vectors you created in 1.1 by $5$, $\\pi$, and $-e$ and plot all four vectors (original + 3 scaled vectors) on a graph. What do you notice about these vectors? "
      ]
    },
    {
      "cell_type": "code",
      "metadata": {
        "id": "3qpwDlzXkVf5",
        "colab_type": "code",
        "outputId": "59ab6ba6-72ac-4b3a-80fe-2dab2d98da33",
        "colab": {
          "base_uri": "https://localhost:8080/",
          "height": 33
        }
      },
      "source": [
        "truck"
      ],
      "execution_count": 13,
      "outputs": [
        {
          "output_type": "execute_result",
          "data": {
            "text/plain": [
              "array([ 7, 12])"
            ]
          },
          "metadata": {
            "tags": []
          },
          "execution_count": 13
        }
      ]
    },
    {
      "cell_type": "code",
      "metadata": {
        "id": "L_BTn5x2YlHR",
        "colab_type": "code",
        "outputId": "4d1f08a5-1855-4881-abb4-f154d73499e5",
        "colab": {
          "base_uri": "https://localhost:8080/",
          "height": 67
        }
      },
      "source": [
        "# for loop?\n",
        "# print(-e)\n",
        "# print(pi)\n",
        "\n",
        "truck_5 = np.multiply(5, truck)\n",
        "truck_pi = np.multiply(pi, truck)\n",
        "truck_neg_e = np.multiply( -e, truck)\n",
        "\n",
        "print('Multiplying the truck vector by 5: ', truck_5)\n",
        "print('Multiplying the truck vector by pi: ', truck_pi)\n",
        "print('Multiplying the truck vector by -e: ', truck_neg_e)"
      ],
      "execution_count": 14,
      "outputs": [
        {
          "output_type": "stream",
          "text": [
            "Multiplying the truck vector by 5:  [35 60]\n",
            "Multiplying the truck vector by pi:  [21.99114858 37.69911184]\n",
            "Multiplying the truck vector by -e:  [-19.0279728  -32.61938194]\n"
          ],
          "name": "stdout"
        }
      ]
    },
    {
      "cell_type": "code",
      "metadata": {
        "id": "KWldBQ56cU_p",
        "colab_type": "code",
        "outputId": "162c0529-b54e-4c47-9d04-0d3a286ffdfc",
        "colab": {
          "base_uri": "https://localhost:8080/",
          "height": 298
        }
      },
      "source": [
        "# graph all the truck vectors\n",
        "\n",
        "fig, ax = plt.subplots()\n",
        "ax.grid()\n",
        "plt.xlim(-45, 75)          \n",
        "plt.ylim(-45, 75)\n",
        "plt.arrow(0,0, *truck, head_width=0.05, linewidth=8, color='MediumSlateBlue',\n",
        "          length_includes_head=True)\n",
        "plt.arrow(0,0, *truck_5, head_width=0.05, linewidth=6, color='DarkOrchid',\n",
        "          length_includes_head=True)\n",
        "plt.arrow(0,0, *truck_pi, head_width=0.05, linewidth=4, color='Thistle',\n",
        "          length_includes_head=True)\n",
        "plt.arrow(0,0, *truck_neg_e, head_width=0.05, linewidth=3, color='Lavender',\n",
        "          length_includes_head=True)\n",
        "\n",
        "plt.show()\n",
        "print('These vectors have been scaled up positivly via pi and the number 5. \\nAnd scaling by -e turns the vector in a negative direction')"
      ],
      "execution_count": 15,
      "outputs": [
        {
          "output_type": "display_data",
          "data": {
            "image/png": "[encoded data removed]",
            "text/plain": [
              "<Figure size 432x288 with 1 Axes>"
            ]
          },
          "metadata": {
            "tags": []
          }
        },
        {
          "output_type": "stream",
          "text": [
            "These vectors have been scaled up positivly via pi and the number 5. \n",
            "And scaling by -e turns the vector in a negative direction\n"
          ],
          "name": "stdout"
        }
      ]
    },
    {
      "cell_type": "markdown",
      "metadata": {
        "id": "wrgqa6sWimbH",
        "colab_type": "text"
      },
      "source": [
        "## 1.4 Graph vectors $\\vec{a}$ and $\\vec{b}$ and plot them on a graph\n",
        "\n",
        "\\begin{align}\n",
        "\\vec{a} = \\begin{bmatrix} 5 \\\\ 7 \\end{bmatrix}\n",
        "\\qquad\n",
        "\\vec{b} = \\begin{bmatrix} 3 \\\\4 \\end{bmatrix}\n",
        "\\end{align}"
      ]
    },
    {
      "cell_type": "code",
      "metadata": {
        "id": "I1BGXA_skV-b",
        "colab_type": "code",
        "outputId": "abf935ef-0daf-4c02-b5ef-9c60d90f482b",
        "colab": {
          "base_uri": "https://localhost:8080/",
          "height": 269
        }
      },
      "source": [
        "# graph vectors a and b\n",
        "a_vector = np.array([5, 7])\n",
        "b_vector = np.array([3, 4])\n",
        "\n",
        "# graph the vector\n",
        "fig, ax = plt.subplots()\n",
        "ax.grid()\n",
        "plt.xlim(0, 10)\n",
        "plt.ylim(0, 10)\n",
        "\n",
        "plt.arrow(0, 0, \n",
        "          a_vector[0], \n",
        "          a_vector[1], \n",
        "          head_width=0.5, \n",
        "          head_length=0.5,\n",
        "          linewidth=3,\n",
        "          color = 'SandyBrown',\n",
        "           length_includes_head=True)\n",
        "\n",
        "plt.arrow(0, 0, \n",
        "          b_vector[0], \n",
        "          b_vector[1], \n",
        "          head_width=0.5, \n",
        "          head_length=0.5,\n",
        "          linewidth=3,\n",
        "          color = 'DarkGoldenrod',\n",
        "           length_includes_head=True)\n",
        "\n",
        "plt.show()"
      ],
      "execution_count": 16,
      "outputs": [
        {
          "output_type": "display_data",
          "data": {
            "image/png": "[encoded data removed]",
            "text/plain": [
              "<Figure size 432x288 with 1 Axes>"
            ]
          },
          "metadata": {
            "tags": []
          }
        }
      ]
    },
    {
      "cell_type": "markdown",
      "metadata": {
        "id": "QN6RU_3gizpw",
        "colab_type": "text"
      },
      "source": [
        "## 1.5 find $\\vec{a} - \\vec{b}$ and plot the result on the same graph as $\\vec{a}$ and $\\vec{b}$. Is there a relationship between vectors $\\vec{a} \\thinspace, \\vec{b} \\thinspace \\text{and} \\thinspace \\vec{a-b}$"
      ]
    },
    {
      "cell_type": "code",
      "metadata": {
        "id": "68sWHIOPkXp5",
        "colab_type": "code",
        "colab": {
          "base_uri": "https://localhost:8080/",
          "height": 33
        },
        "outputId": "e95cc0c2-70f2-4903-a88d-88eb66570612"
      },
      "source": [
        "# vectors: a - b \n",
        "\n",
        "ab_minus = a_vector - b_vector\n",
        "print('The subtraction of a and b: ', ab_minus)"
      ],
      "execution_count": 44,
      "outputs": [
        {
          "output_type": "stream",
          "text": [
            "The subtraction of a and b:  [2 3]\n"
          ],
          "name": "stdout"
        }
      ]
    },
    {
      "cell_type": "code",
      "metadata": {
        "id": "2j2GkU7pmbsl",
        "colab_type": "code",
        "outputId": "0f08aea3-c5a2-4a24-da55-761de6f56e30",
        "colab": {
          "base_uri": "https://localhost:8080/",
          "height": 302
        }
      },
      "source": [
        "# Graph ab_minus\n",
        "\n",
        "fig, ax = plt.subplots()\n",
        "ax.grid()\n",
        "plt.xlim(0, 10)\n",
        "plt.ylim(0, 10)\n",
        "\n",
        "plt.arrow(0, 0, \n",
        "          a_vector[0], \n",
        "          a_vector[1], \n",
        "          head_width=0.5, \n",
        "          head_length=0.5,\n",
        "          linewidth=3,\n",
        "          color = 'SandyBrown',\n",
        "           length_includes_head=True)\n",
        "\n",
        "plt.arrow(0, 0, \n",
        "          b_vector[0], \n",
        "          b_vector[1], \n",
        "          head_width=0.5, \n",
        "          head_length=0.5,\n",
        "          linewidth=3,\n",
        "          color = 'CornflowerBlue',\n",
        "           length_includes_head=True)\n",
        "\n",
        "plt.arrow(0, 0, \n",
        "          ab_minus[0], \n",
        "          ab_minus[1], \n",
        "          head_width=0.5, \n",
        "          head_length=0.5,\n",
        "          linewidth=3,\n",
        "          color = 'SpringGreen',\n",
        "           length_includes_head=True)\n",
        "\n",
        "plt.show()\n",
        "print('Yes, there is a relationship. I am not sure how to explain it. \\nIt seems like the subtration of a from b gives a value that is close to 1/3 of a')"
      ],
      "execution_count": 18,
      "outputs": [
        {
          "output_type": "display_data",
          "data": {
            "image/png": "[encoded data removed]",
            "text/plain": [
              "<Figure size 432x288 with 1 Axes>"
            ]
          },
          "metadata": {
            "tags": []
          }
        },
        {
          "output_type": "stream",
          "text": [
            "Yes, there is a relationship. I am not sure how to explain it. \n",
            "It seems like the subtration of a from b gives a value that is close to 1/3 of a\n"
          ],
          "name": "stdout"
        }
      ]
    },
    {
      "cell_type": "markdown",
      "metadata": {
        "id": "1ZPVuJAlehu_",
        "colab_type": "text"
      },
      "source": [
        "## 1.6 Find $c \\cdot d$\n",
        "\n",
        "\\begin{align}\n",
        "\\vec{c} = \\begin{bmatrix}7 & 22 & 4 & 16\\end{bmatrix}\n",
        "\\qquad\n",
        "\\vec{d} = \\begin{bmatrix}12 & 6 & 2 & 9\\end{bmatrix}\n",
        "\\end{align}\n"
      ]
    },
    {
      "cell_type": "code",
      "metadata": {
        "id": "2_cZQFCskYNr",
        "colab_type": "code",
        "outputId": "75b92791-2dea-42bf-f4d5-7b5e640d1aa9",
        "colab": {
          "base_uri": "https://localhost:8080/",
          "height": 33
        }
      },
      "source": [
        "# dot product of c and d\n",
        "c = np.array([7, 22, 4, 16])\n",
        "d = np.array([12, 6, 2, 9])\n",
        "\n",
        "print('The dot product of c and d: ', np.dot(c,d))"
      ],
      "execution_count": 43,
      "outputs": [
        {
          "output_type": "stream",
          "text": [
            "The dot product of c and d:  368\n"
          ],
          "name": "stdout"
        }
      ]
    },
    {
      "cell_type": "markdown",
      "metadata": {
        "id": "cLm8yokpfg9B",
        "colab_type": "text"
      },
      "source": [
        "##  1.7 Find $e \\times f$\n",
        "\n",
        "\\begin{align}\n",
        "\\vec{e} = \\begin{bmatrix} 5 \\\\ 7 \\\\ 2 \\end{bmatrix}\n",
        "\\qquad\n",
        "\\vec{f} = \\begin{bmatrix} 3 \\\\4 \\\\ 6 \\end{bmatrix}\n",
        "\\end{align}"
      ]
    },
    {
      "cell_type": "code",
      "metadata": {
        "id": "ku-TdCKAkYs8",
        "colab_type": "code",
        "outputId": "6d996597-d7f0-444f-8077-bf4dc36ad9c3",
        "colab": {
          "base_uri": "https://localhost:8080/",
          "height": 33
        }
      },
      "source": [
        "# cross product of e and f\n",
        "e = np.array([5, 7, 2])\n",
        "f = np.array([3, 4, 6])\n",
        "\n",
        "print('The cross product of e and f: ', np.cross(e,f))"
      ],
      "execution_count": 42,
      "outputs": [
        {
          "output_type": "stream",
          "text": [
            "The cross product of e and f:  [ 34 -24  -1]\n"
          ],
          "name": "stdout"
        }
      ]
    },
    {
      "cell_type": "markdown",
      "metadata": {
        "id": "-TN8wO2-h53s",
        "colab_type": "text"
      },
      "source": [
        "## 1.8 Find $||g||$ and then find $||h||$. Which is longer?\n",
        "\n",
        "\\begin{align}\n",
        "\\vec{g} = \\begin{bmatrix} 1 \\\\ 1 \\\\ 1 \\\\ 8 \\end{bmatrix}\n",
        "\\qquad\n",
        "\\vec{h} = \\begin{bmatrix} 3 \\\\3 \\\\ 3 \\\\ 3 \\end{bmatrix}\n",
        "\\end{align}"
      ]
    },
    {
      "cell_type": "code",
      "metadata": {
        "id": "-5VKOMKBlgaA",
        "colab_type": "code",
        "outputId": "d6dae8ff-b074-42b0-c6f5-d9bc3b30b3e6",
        "colab": {
          "base_uri": "https://localhost:8080/",
          "height": 33
        }
      },
      "source": [
        "# find the norm of g and h\n",
        "# which is longer?\n",
        "\n",
        "g = np.array([1, 1, 1, 8])\n",
        "h = np.array([3, 3, 3, 3])\n",
        "\n",
        "g_norm = np.linalg.norm(g)\n",
        "h_norm = np.linalg.norm(h)\n",
        "\n",
        "print('g_norm:', g_norm, 'is larger than h_norm:' , h_norm)"
      ],
      "execution_count": 21,
      "outputs": [
        {
          "output_type": "stream",
          "text": [
            "g_norm: 8.18535277187245 is larger than h_norm: 6.0\n"
          ],
          "name": "stdout"
        }
      ]
    },
    {
      "cell_type": "markdown",
      "metadata": {
        "id": "njrWIMS-ZAoH",
        "colab_type": "text"
      },
      "source": [
        "# Part 2 - Matrices"
      ]
    },
    {
      "cell_type": "markdown",
      "metadata": {
        "id": "GjkcAVIOmOnn",
        "colab_type": "text"
      },
      "source": [
        "## 2.1 What are the dimensions of the following matrices? Which of the following can be multiplied together? See if you can find all of the different legal combinations.\n",
        "\\begin{align}\n",
        "A = \\begin{bmatrix}\n",
        "1 & 2 \\\\\n",
        "3 & 4 \\\\\n",
        "5 & 6\n",
        "\\end{bmatrix}\n",
        "\\qquad\n",
        "B = \\begin{bmatrix}\n",
        "2 & 4 & 6 \\\\\n",
        "\\end{bmatrix}\n",
        "\\qquad\n",
        "C = \\begin{bmatrix}\n",
        "9 & 6 & 3 \\\\\n",
        "4 & 7 & 11\n",
        "\\end{bmatrix}\n",
        "\\qquad\n",
        "D = \\begin{bmatrix}\n",
        "1 & 0 & 0 \\\\\n",
        "0 & 1 & 0 \\\\\n",
        "0 & 0 & 1\n",
        "\\end{bmatrix}\n",
        "\\qquad\n",
        "E = \\begin{bmatrix}\n",
        "1 & 3 \\\\\n",
        "5 & 7\n",
        "\\end{bmatrix}\n",
        "\\end{align}"
      ]
    },
    {
      "cell_type": "code",
      "metadata": {
        "id": "Z69c-uPtnbIx",
        "colab_type": "code",
        "outputId": "6886332c-fa37-4d70-8157-1039454eab9c",
        "colab": {
          "base_uri": "https://localhost:8080/",
          "height": 100
        }
      },
      "source": [
        "# Dimensions\n",
        "# rows by columns\n",
        "\n",
        "print(' Matrix A = 3 x 2 \\n Matrix B = 1 x 3 \\n Matrix C = 2 x 3 \\n Matrix D = 3 x 3 \\n Matrix E = 2 x 2')\n"
      ],
      "execution_count": 22,
      "outputs": [
        {
          "output_type": "stream",
          "text": [
            " Matrix A = 3 x 2 \n",
            " Matrix B = 1 x 3 \n",
            " Matrix C = 2 x 3 \n",
            " Matrix D = 3 x 3 \n",
            " Matrix E = 2 x 2\n"
          ],
          "name": "stdout"
        }
      ]
    },
    {
      "cell_type": "code",
      "metadata": {
        "id": "FhJs6TVQyoIZ",
        "colab_type": "code",
        "outputId": "2af25d2a-0536-4a53-e67d-9a728db63cea",
        "colab": {
          "base_uri": "https://localhost:8080/",
          "height": 435
        }
      },
      "source": [
        "# which can be multiplied together?\n",
        "# first matrix # of columns = second matrix # of rows\n",
        "\n",
        "print('A * A: no  \\n A * B: no  \\n A * C: yes  \\n A * D: no  \\n A * E: yes')\n",
        "print('B * B: no  \\n B * A: yes  \\n B * C: no  \\n B * D: yes  \\n B * E: no')\n",
        "print('C * C: no  \\n C * A: yes  \\n C * B: no  \\n C * D: yes  \\n C * E: no')\n",
        "print('D * D: yes  \\n D * A: yes  \\n D * B: no  \\n D * C: no  \\n D * E: no')\n",
        "print('E * E: yes  \\n E * A: no  \\n E * B: no  \\n E * C: yes  \\n E * D: no')"
      ],
      "execution_count": 23,
      "outputs": [
        {
          "output_type": "stream",
          "text": [
            "A * A: no  \n",
            " A * B: no  \n",
            " A * C: yes  \n",
            " A * D: no  \n",
            " A * E: yes\n",
            "B * B: no  \n",
            " B * A: yes  \n",
            " B * C: no  \n",
            " B * D: yes  \n",
            " B * E: no\n",
            "C * C: no  \n",
            " C * A: yes  \n",
            " C * B: no  \n",
            " C * D: yes  \n",
            " C * E: no\n",
            "D * D: yes  \n",
            " D * A: yes  \n",
            " D * B: no  \n",
            " D * C: no  \n",
            " D * E: no\n",
            "E * E: yes  \n",
            " E * A: no  \n",
            " E * B: no  \n",
            " E * C: yes  \n",
            " E * D: no\n"
          ],
          "name": "stdout"
        }
      ]
    },
    {
      "cell_type": "markdown",
      "metadata": {
        "id": "lMOlCoM3ncGa",
        "colab_type": "text"
      },
      "source": [
        "## 2.2 Find the following products: CD, AE, and BA. What are the dimensions of the resulting matrices? How does that relate to the dimensions of their factor matrices?"
      ]
    },
    {
      "cell_type": "code",
      "metadata": {
        "id": "zhKwiSItoE2F",
        "colab_type": "code",
        "outputId": "d9732415-d79c-48e8-8bb1-62089a077fc3",
        "colab": {
          "base_uri": "https://localhost:8080/",
          "height": 67
        }
      },
      "source": [
        "# multiply CD martrices\n",
        "\n",
        "C = [[9, 6, 3], [4, 7, 11]]\n",
        "\n",
        "D = [[1, 0, 0], [0, 1, 0], [0, 0, 1]]\n",
        "\n",
        "print('The product of C and D gives the following 2 x 3 matrix: \\n', np.matmul(C,D))"
      ],
      "execution_count": 24,
      "outputs": [
        {
          "output_type": "stream",
          "text": [
            "The product of C and D gives the following 2 x 3 matrix: \n",
            " [[ 9  6  3]\n",
            " [ 4  7 11]]\n"
          ],
          "name": "stdout"
        }
      ]
    },
    {
      "cell_type": "code",
      "metadata": {
        "id": "d6F-gmCgXQeU",
        "colab_type": "code",
        "outputId": "6f01fd3c-7ac6-4c95-bdf9-aebf345b953a",
        "colab": {
          "base_uri": "https://localhost:8080/",
          "height": 67
        }
      },
      "source": [
        "# multiply AE martrices\n",
        "\n",
        "A = [[1, 2], [3, 4], [5, 6]]\n",
        "\n",
        "E = [[1, 0, 0], [0, 1, 0], [0, 0, 1]]\n",
        "\n",
        "print('The product of A and E can not be given \\n'),# np.matmul(A,E))"
      ],
      "execution_count": 25,
      "outputs": [
        {
          "output_type": "stream",
          "text": [
            "The product of A and E can not be given \n",
            "\n"
          ],
          "name": "stdout"
        },
        {
          "output_type": "execute_result",
          "data": {
            "text/plain": [
              "(None,)"
            ]
          },
          "metadata": {
            "tags": []
          },
          "execution_count": 25
        }
      ]
    },
    {
      "cell_type": "code",
      "metadata": {
        "id": "mKtgzpO-X6W7",
        "colab_type": "code",
        "outputId": "4f209630-b4b8-4501-d8e0-9598445d8f1c",
        "colab": {
          "base_uri": "https://localhost:8080/",
          "height": 50
        }
      },
      "source": [
        "# multiply BA martrices\n",
        "\n",
        "B = [[2, 4, 6]]\n",
        "\n",
        "A = [[1, 2], [3, 4], [5, 6]]\n",
        "\n",
        "print('The product of B and A gives the following 1 x 2 matrix: \\n', np.matmul(B,A))"
      ],
      "execution_count": 26,
      "outputs": [
        {
          "output_type": "stream",
          "text": [
            "The product of B and A gives the following 1 x 2 matrix: \n",
            " [[44 56]]\n"
          ],
          "name": "stdout"
        }
      ]
    },
    {
      "cell_type": "markdown",
      "metadata": {
        "id": "M8_C5XmKYWP_",
        "colab_type": "text"
      },
      "source": [
        "*Matrices C and D can be multiplied since Matrix C number of columns, match with Matrix D number of rows. As well as Matrices B and A, Matrix B number of columns equals Matrix A number of rows.*"
      ]
    },
    {
      "cell_type": "markdown",
      "metadata": {
        "id": "p2jmaGLgoFPN",
        "colab_type": "text"
      },
      "source": [
        "## 2.3  Find $F^{T}$. How are the numbers along the main diagonal (top left to bottom right) of the original matrix and its transpose related? What are the dimensions of $F$? What are the dimensions of $F^{T}$?\n",
        "\n",
        "\\begin{align}\n",
        "F = \n",
        "\\begin{bmatrix}\n",
        "20 & 19 & 18 & 17 \\\\\n",
        "16 & 15 & 14 & 13 \\\\\n",
        "12 & 11 & 10 & 9 \\\\\n",
        "8 & 7 & 6 & 5 \\\\\n",
        "4 & 3 & 2 & 1\n",
        "\\end{bmatrix}\n",
        "\\end{align}"
      ]
    },
    {
      "cell_type": "code",
      "metadata": {
        "id": "Wl3ElwgLqaAn",
        "colab_type": "code",
        "colab": {
          "base_uri": "https://localhost:8080/",
          "height": 134
        },
        "outputId": "44c50976-fc73-499e-c651-c620e6593d45"
      },
      "source": [
        "# Set up F\n",
        "\n",
        "F = np.array([[20,19,18,17],\n",
        "             [16,15,14,13],\n",
        "             [12,11,101,9],\n",
        "              [8,7,6,5],\n",
        "              [4,3,2,1]])\n",
        "\n",
        "print(pd.DataFrame(F))\n",
        "print('F dimentions are 5 x 4')"
      ],
      "execution_count": 27,
      "outputs": [
        {
          "output_type": "stream",
          "text": [
            "    0   1    2   3\n",
            "0  20  19   18  17\n",
            "1  16  15   14  13\n",
            "2  12  11  101   9\n",
            "3   8   7    6   5\n",
            "4   4   3    2   1\n",
            "F dimentions are 5 x 4\n"
          ],
          "name": "stdout"
        }
      ]
    },
    {
      "cell_type": "code",
      "metadata": {
        "id": "eikWbrHhjmiH",
        "colab_type": "code",
        "colab": {
          "base_uri": "https://localhost:8080/",
          "height": 100
        },
        "outputId": "84f7e130-102f-406f-e3f1-65f6089c82f3"
      },
      "source": [
        "# Transpose F\n",
        "\n",
        "F = F.T\n",
        "print(F)\n",
        "print('F transposed dimentions are 4 x 5')"
      ],
      "execution_count": 28,
      "outputs": [
        {
          "output_type": "stream",
          "text": [
            "[[ 20  16  12   8   4]\n",
            " [ 19  15  11   7   3]\n",
            " [ 18  14 101   6   2]\n",
            " [ 17  13   9   5   1]]\n",
            "F transposed dimentions are 4 x 5\n"
          ],
          "name": "stdout"
        }
      ]
    },
    {
      "cell_type": "markdown",
      "metadata": {
        "id": "uaVjPMbkmyM7",
        "colab_type": "text"
      },
      "source": [
        "How are the numbers along the main diagonal (top left to bottom right) of the original matrix and its transpose related?\n",
        "\n",
        "*The numbers along the diagonal are unchanged. Meanwhile the rest of the matrix is flipped. Vaules that were previously on the top right are now on the bottom left and vice vera.*"
      ]
    },
    {
      "cell_type": "markdown",
      "metadata": {
        "id": "13ik2LEEZLHn",
        "colab_type": "text"
      },
      "source": [
        "# Part 3 - Square Matrices"
      ]
    },
    {
      "cell_type": "markdown",
      "metadata": {
        "id": "sDBAPUwfp7f7",
        "colab_type": "text"
      },
      "source": [
        "## 3.1 Find $IG$ (be sure to show your work) 😃\n",
        "\n",
        "You don't have to do anything crazy complicated here to show your work, just create the G matrix as specified below, and a corresponding 2x2 Identity matrix and then multiply them together to show the result. You don't need to write LaTeX or anything like that (unless you want to).\n",
        "\n",
        "\\begin{align}\n",
        "G= \n",
        "\\begin{bmatrix}\n",
        "13 & 14 \\\\\n",
        "21 & 12 \n",
        "\\end{bmatrix}\n",
        "\\end{align}"
      ]
    },
    {
      "cell_type": "code",
      "metadata": {
        "id": "ZnqvZBOYqar3",
        "colab_type": "code",
        "colab": {
          "base_uri": "https://localhost:8080/",
          "height": 50
        },
        "outputId": "5782969f-afd7-4d4a-b8e2-006563afa637"
      },
      "source": [
        "# G matrix\n",
        "\n",
        "G = np.array([[13, 14], [21, 12]])\n",
        "\n",
        "G"
      ],
      "execution_count": 29,
      "outputs": [
        {
          "output_type": "execute_result",
          "data": {
            "text/plain": [
              "array([[13, 14],\n",
              "       [21, 12]])"
            ]
          },
          "metadata": {
            "tags": []
          },
          "execution_count": 29
        }
      ]
    },
    {
      "cell_type": "code",
      "metadata": {
        "id": "d-GtAE4in1Wt",
        "colab_type": "code",
        "colab": {
          "base_uri": "https://localhost:8080/",
          "height": 50
        },
        "outputId": "eef809e3-2810-4245-e7d7-b57c90d5f4ec"
      },
      "source": [
        "# G identity matrix\n",
        "\n",
        "GI = np.array([[1, 0], [0, 1]])\n",
        "\n",
        "GI"
      ],
      "execution_count": 30,
      "outputs": [
        {
          "output_type": "execute_result",
          "data": {
            "text/plain": [
              "array([[1, 0],\n",
              "       [0, 1]])"
            ]
          },
          "metadata": {
            "tags": []
          },
          "execution_count": 30
        }
      ]
    },
    {
      "cell_type": "code",
      "metadata": {
        "id": "XXEuyggbn1EM",
        "colab_type": "code",
        "colab": {
          "base_uri": "https://localhost:8080/",
          "height": 50
        },
        "outputId": "c1c22684-4da5-46f7-a845-f7ad9023f827"
      },
      "source": [
        "# multiply G and GI\n",
        "\n",
        "np.matmul(G,GI)"
      ],
      "execution_count": 31,
      "outputs": [
        {
          "output_type": "execute_result",
          "data": {
            "text/plain": [
              "array([[13, 14],\n",
              "       [21, 12]])"
            ]
          },
          "metadata": {
            "tags": []
          },
          "execution_count": 31
        }
      ]
    },
    {
      "cell_type": "markdown",
      "metadata": {
        "id": "DZ_0XTDQqpMT",
        "colab_type": "text"
      },
      "source": [
        "## 3.2 Find $|H|$ and then find $|J|$.\n",
        "\n",
        "\\begin{align}\n",
        "H= \n",
        "\\begin{bmatrix}\n",
        "12 & 11 \\\\\n",
        "7 & 10 \n",
        "\\end{bmatrix}\n",
        "\\qquad\n",
        "J= \n",
        "\\begin{bmatrix}\n",
        "0 & 1 & 2 \\\\\n",
        "7 & 10 & 4 \\\\\n",
        "3 & 2 & 0\n",
        "\\end{bmatrix}\n",
        "\\end{align}\n"
      ]
    },
    {
      "cell_type": "code",
      "metadata": {
        "id": "5QShhoXyrjDS",
        "colab_type": "code",
        "colab": {
          "base_uri": "https://localhost:8080/",
          "height": 67
        },
        "outputId": "b839217b-cc88-45f1-e787-ec30064f2b91"
      },
      "source": [
        "# determinant of H\n",
        "\n",
        "H = np.array([[12, 11], [7, 10]])\n",
        "\n",
        "print(H, '\\n The determinant of H is: ', np.linalg.det(H))"
      ],
      "execution_count": 32,
      "outputs": [
        {
          "output_type": "stream",
          "text": [
            "[[12 11]\n",
            " [ 7 10]] \n",
            " The determinant of H is:  43.000000000000014\n"
          ],
          "name": "stdout"
        }
      ]
    },
    {
      "cell_type": "code",
      "metadata": {
        "id": "vCl5YP5_BXZ-",
        "colab_type": "code",
        "colab": {
          "base_uri": "https://localhost:8080/",
          "height": 84
        },
        "outputId": "ce2504c3-1fb6-4d43-aba0-8bf8ea2b4bf9"
      },
      "source": [
        "# determinant of J\n",
        "\n",
        "J = np.array([[0, 1, 2], [7, 10, 4], [3, 2, 0]])\n",
        "\n",
        "print(J, '\\n The determinant of J is: ', np.linalg.det(J))"
      ],
      "execution_count": 33,
      "outputs": [
        {
          "output_type": "stream",
          "text": [
            "[[ 0  1  2]\n",
            " [ 7 10  4]\n",
            " [ 3  2  0]] \n",
            " The determinant of J is:  -19.999999999999996\n"
          ],
          "name": "stdout"
        }
      ]
    },
    {
      "cell_type": "markdown",
      "metadata": {
        "id": "2gZl1CFwrXSH",
        "colab_type": "text"
      },
      "source": [
        "## 3.3 Find $H^{-1}$ and then find $J^{-1}$"
      ]
    },
    {
      "cell_type": "markdown",
      "metadata": {
        "id": "Vvd4Pe86rjhW",
        "colab_type": "text"
      },
      "source": [
        "## 3.4 Find $HH^{-1}$ and then find $J^{-1}J$. Is $HH^{-1} == J^{-1}J$? Why or Why not? \n",
        "\n",
        "Please ignore Python rounding errors. If necessary, format your output so that it rounds to 5 significant digits (the fifth decimal place)."
      ]
    },
    {
      "cell_type": "code",
      "metadata": {
        "id": "yw5CLkZ3Efpf",
        "colab_type": "code",
        "colab": {
          "base_uri": "https://localhost:8080/",
          "height": 107
        },
        "outputId": "6fdc8fed-6995-460d-8ef9-a12c1444c463"
      },
      "source": [
        "# display H\n",
        "\n",
        "pd.DataFrame(H)"
      ],
      "execution_count": 34,
      "outputs": [
        {
          "output_type": "execute_result",
          "data": {
            "text/html": [
              "<div>\n",
              "<style scoped>\n",
              "    .dataframe tbody tr th:only-of-type {\n",
              "        vertical-align: middle;\n",
              "    }\n",
              "\n",
              "    .dataframe tbody tr th {\n",
              "        vertical-align: top;\n",
              "    }\n",
              "\n",
              "    .dataframe thead th {\n",
              "        text-align: right;\n",
              "    }\n",
              "</style>\n",
              "<table border=\"1\" class=\"dataframe\">\n",
              "  <thead>\n",
              "    <tr style=\"text-align: right;\">\n",
              "      <th></th>\n",
              "      <th>0</th>\n",
              "      <th>1</th>\n",
              "    </tr>\n",
              "  </thead>\n",
              "  <tbody>\n",
              "    <tr>\n",
              "      <th>0</th>\n",
              "      <td>12</td>\n",
              "      <td>11</td>\n",
              "    </tr>\n",
              "    <tr>\n",
              "      <th>1</th>\n",
              "      <td>7</td>\n",
              "      <td>10</td>\n",
              "    </tr>\n",
              "  </tbody>\n",
              "</table>\n",
              "</div>"
            ],
            "text/plain": [
              "    0   1\n",
              "0  12  11\n",
              "1   7  10"
            ]
          },
          "metadata": {
            "tags": []
          },
          "execution_count": 34
        }
      ]
    },
    {
      "cell_type": "code",
      "metadata": {
        "id": "QgtnB8AOC1vK",
        "colab_type": "code",
        "colab": {
          "base_uri": "https://localhost:8080/",
          "height": 107
        },
        "outputId": "5650b4b3-cc30-4a76-9482-fc7f2afba59d"
      },
      "source": [
        "# inverse of H\n",
        "\n",
        "H_inverse = np.linalg.inv(H)\n",
        "pd.DataFrame(H_inverse)"
      ],
      "execution_count": 35,
      "outputs": [
        {
          "output_type": "execute_result",
          "data": {
            "text/html": [
              "<div>\n",
              "<style scoped>\n",
              "    .dataframe tbody tr th:only-of-type {\n",
              "        vertical-align: middle;\n",
              "    }\n",
              "\n",
              "    .dataframe tbody tr th {\n",
              "        vertical-align: top;\n",
              "    }\n",
              "\n",
              "    .dataframe thead th {\n",
              "        text-align: right;\n",
              "    }\n",
              "</style>\n",
              "<table border=\"1\" class=\"dataframe\">\n",
              "  <thead>\n",
              "    <tr style=\"text-align: right;\">\n",
              "      <th></th>\n",
              "      <th>0</th>\n",
              "      <th>1</th>\n",
              "    </tr>\n",
              "  </thead>\n",
              "  <tbody>\n",
              "    <tr>\n",
              "      <th>0</th>\n",
              "      <td>0.232558</td>\n",
              "      <td>-0.255814</td>\n",
              "    </tr>\n",
              "    <tr>\n",
              "      <th>1</th>\n",
              "      <td>-0.162791</td>\n",
              "      <td>0.279070</td>\n",
              "    </tr>\n",
              "  </tbody>\n",
              "</table>\n",
              "</div>"
            ],
            "text/plain": [
              "          0         1\n",
              "0  0.232558 -0.255814\n",
              "1 -0.162791  0.279070"
            ]
          },
          "metadata": {
            "tags": []
          },
          "execution_count": 35
        }
      ]
    },
    {
      "cell_type": "code",
      "metadata": {
        "id": "R5Q5w6fFC1Tm",
        "colab_type": "code",
        "colab": {
          "base_uri": "https://localhost:8080/",
          "height": 107
        },
        "outputId": "2a049799-bb0b-4688-fea3-4a6e8cec58bb"
      },
      "source": [
        "# multiply H by H_inverse\n",
        "\n",
        "H_inverse_product = np.matmul(H, H_inverse)\n",
        "pd.DataFrame(H_inverse_product)"
      ],
      "execution_count": 36,
      "outputs": [
        {
          "output_type": "execute_result",
          "data": {
            "text/html": [
              "<div>\n",
              "<style scoped>\n",
              "    .dataframe tbody tr th:only-of-type {\n",
              "        vertical-align: middle;\n",
              "    }\n",
              "\n",
              "    .dataframe tbody tr th {\n",
              "        vertical-align: top;\n",
              "    }\n",
              "\n",
              "    .dataframe thead th {\n",
              "        text-align: right;\n",
              "    }\n",
              "</style>\n",
              "<table border=\"1\" class=\"dataframe\">\n",
              "  <thead>\n",
              "    <tr style=\"text-align: right;\">\n",
              "      <th></th>\n",
              "      <th>0</th>\n",
              "      <th>1</th>\n",
              "    </tr>\n",
              "  </thead>\n",
              "  <tbody>\n",
              "    <tr>\n",
              "      <th>0</th>\n",
              "      <td>1.000000e+00</td>\n",
              "      <td>5.551115e-16</td>\n",
              "    </tr>\n",
              "    <tr>\n",
              "      <th>1</th>\n",
              "      <td>2.220446e-16</td>\n",
              "      <td>1.000000e+00</td>\n",
              "    </tr>\n",
              "  </tbody>\n",
              "</table>\n",
              "</div>"
            ],
            "text/plain": [
              "              0             1\n",
              "0  1.000000e+00  5.551115e-16\n",
              "1  2.220446e-16  1.000000e+00"
            ]
          },
          "metadata": {
            "tags": []
          },
          "execution_count": 36
        }
      ]
    },
    {
      "cell_type": "code",
      "metadata": {
        "id": "R7E4pHe-FIsX",
        "colab_type": "code",
        "colab": {
          "base_uri": "https://localhost:8080/",
          "height": 137
        },
        "outputId": "8f397bb1-11c6-4412-f26f-369f72f7c837"
      },
      "source": [
        "# display J\n",
        "\n",
        "pd.DataFrame(J)"
      ],
      "execution_count": 37,
      "outputs": [
        {
          "output_type": "execute_result",
          "data": {
            "text/html": [
              "<div>\n",
              "<style scoped>\n",
              "    .dataframe tbody tr th:only-of-type {\n",
              "        vertical-align: middle;\n",
              "    }\n",
              "\n",
              "    .dataframe tbody tr th {\n",
              "        vertical-align: top;\n",
              "    }\n",
              "\n",
              "    .dataframe thead th {\n",
              "        text-align: right;\n",
              "    }\n",
              "</style>\n",
              "<table border=\"1\" class=\"dataframe\">\n",
              "  <thead>\n",
              "    <tr style=\"text-align: right;\">\n",
              "      <th></th>\n",
              "      <th>0</th>\n",
              "      <th>1</th>\n",
              "      <th>2</th>\n",
              "    </tr>\n",
              "  </thead>\n",
              "  <tbody>\n",
              "    <tr>\n",
              "      <th>0</th>\n",
              "      <td>0</td>\n",
              "      <td>1</td>\n",
              "      <td>2</td>\n",
              "    </tr>\n",
              "    <tr>\n",
              "      <th>1</th>\n",
              "      <td>7</td>\n",
              "      <td>10</td>\n",
              "      <td>4</td>\n",
              "    </tr>\n",
              "    <tr>\n",
              "      <th>2</th>\n",
              "      <td>3</td>\n",
              "      <td>2</td>\n",
              "      <td>0</td>\n",
              "    </tr>\n",
              "  </tbody>\n",
              "</table>\n",
              "</div>"
            ],
            "text/plain": [
              "   0   1  2\n",
              "0  0   1  2\n",
              "1  7  10  4\n",
              "2  3   2  0"
            ]
          },
          "metadata": {
            "tags": []
          },
          "execution_count": 37
        }
      ]
    },
    {
      "cell_type": "code",
      "metadata": {
        "id": "lO3R0gLyFNcq",
        "colab_type": "code",
        "colab": {
          "base_uri": "https://localhost:8080/",
          "height": 137
        },
        "outputId": "64f552fe-f9f3-4ece-a6e9-ec6e2a11f343"
      },
      "source": [
        "# inverse of J\n",
        "\n",
        "J_inverse = np.linalg.inv(J)\n",
        "pd.DataFrame(J_inverse)"
      ],
      "execution_count": 38,
      "outputs": [
        {
          "output_type": "execute_result",
          "data": {
            "text/html": [
              "<div>\n",
              "<style scoped>\n",
              "    .dataframe tbody tr th:only-of-type {\n",
              "        vertical-align: middle;\n",
              "    }\n",
              "\n",
              "    .dataframe tbody tr th {\n",
              "        vertical-align: top;\n",
              "    }\n",
              "\n",
              "    .dataframe thead th {\n",
              "        text-align: right;\n",
              "    }\n",
              "</style>\n",
              "<table border=\"1\" class=\"dataframe\">\n",
              "  <thead>\n",
              "    <tr style=\"text-align: right;\">\n",
              "      <th></th>\n",
              "      <th>0</th>\n",
              "      <th>1</th>\n",
              "      <th>2</th>\n",
              "    </tr>\n",
              "  </thead>\n",
              "  <tbody>\n",
              "    <tr>\n",
              "      <th>0</th>\n",
              "      <td>0.4</td>\n",
              "      <td>-0.20</td>\n",
              "      <td>0.80</td>\n",
              "    </tr>\n",
              "    <tr>\n",
              "      <th>1</th>\n",
              "      <td>-0.6</td>\n",
              "      <td>0.30</td>\n",
              "      <td>-0.70</td>\n",
              "    </tr>\n",
              "    <tr>\n",
              "      <th>2</th>\n",
              "      <td>0.8</td>\n",
              "      <td>-0.15</td>\n",
              "      <td>0.35</td>\n",
              "    </tr>\n",
              "  </tbody>\n",
              "</table>\n",
              "</div>"
            ],
            "text/plain": [
              "     0     1     2\n",
              "0  0.4 -0.20  0.80\n",
              "1 -0.6  0.30 -0.70\n",
              "2  0.8 -0.15  0.35"
            ]
          },
          "metadata": {
            "tags": []
          },
          "execution_count": 38
        }
      ]
    },
    {
      "cell_type": "code",
      "metadata": {
        "id": "UUmrnQIzFNUq",
        "colab_type": "code",
        "colab": {
          "base_uri": "https://localhost:8080/",
          "height": 137
        },
        "outputId": "b1e5df7a-65d0-42c6-c79c-51e6eb09840d"
      },
      "source": [
        "# multiply J by J_inverse\n",
        "\n",
        "J_inverse_product = np.matmul(J_inverse, J)\n",
        "pd.DataFrame(J_inverse_product)"
      ],
      "execution_count": 39,
      "outputs": [
        {
          "output_type": "execute_result",
          "data": {
            "text/html": [
              "<div>\n",
              "<style scoped>\n",
              "    .dataframe tbody tr th:only-of-type {\n",
              "        vertical-align: middle;\n",
              "    }\n",
              "\n",
              "    .dataframe tbody tr th {\n",
              "        vertical-align: top;\n",
              "    }\n",
              "\n",
              "    .dataframe thead th {\n",
              "        text-align: right;\n",
              "    }\n",
              "</style>\n",
              "<table border=\"1\" class=\"dataframe\">\n",
              "  <thead>\n",
              "    <tr style=\"text-align: right;\">\n",
              "      <th></th>\n",
              "      <th>0</th>\n",
              "      <th>1</th>\n",
              "      <th>2</th>\n",
              "    </tr>\n",
              "  </thead>\n",
              "  <tbody>\n",
              "    <tr>\n",
              "      <th>0</th>\n",
              "      <td>1.000000e+00</td>\n",
              "      <td>2.220446e-16</td>\n",
              "      <td>0.0</td>\n",
              "    </tr>\n",
              "    <tr>\n",
              "      <th>1</th>\n",
              "      <td>-1.110223e-16</td>\n",
              "      <td>1.000000e+00</td>\n",
              "      <td>0.0</td>\n",
              "    </tr>\n",
              "    <tr>\n",
              "      <th>2</th>\n",
              "      <td>-1.665335e-16</td>\n",
              "      <td>-1.110223e-16</td>\n",
              "      <td>1.0</td>\n",
              "    </tr>\n",
              "  </tbody>\n",
              "</table>\n",
              "</div>"
            ],
            "text/plain": [
              "              0             1    2\n",
              "0  1.000000e+00  2.220446e-16  0.0\n",
              "1 -1.110223e-16  1.000000e+00  0.0\n",
              "2 -1.665335e-16 -1.110223e-16  1.0"
            ]
          },
          "metadata": {
            "tags": []
          },
          "execution_count": 39
        }
      ]
    },
    {
      "cell_type": "markdown",
      "metadata": {
        "id": "33hcc7dBGSG2",
        "colab_type": "text"
      },
      "source": [
        "Is $HH^{-1} == J^{-1}J$? Why or Why not? \n",
        "\n",
        "*$HH^{-1} != J^{-1}J$    They do not equal each other. Though they do seem to line up along the diagonal- left to right*"
      ]
    },
    {
      "cell_type": "markdown",
      "metadata": {
        "id": "V0iTO4McYjtk",
        "colab_type": "text"
      },
      "source": [
        "# Stretch Goals: \n",
        "\n",
        "A reminder that these challenges are optional. If you finish your work quickly we welcome you to work on them. If there are other activities that you feel like will help your understanding of the above topics more, feel free to work on that. Topics from the Stretch Goals sections will never end up on Sprint Challenges. You don't have to do these in order, you don't have to do all of them. \n",
        "\n",
        "- Write a function that can calculate the dot product of any two vectors of equal length that are passed to it.\n",
        "- Write a function that can calculate the norm of any vector\n",
        "- Prove to yourself again that the vectors in 1.9 are orthogonal by graphing them. \n",
        "- Research how to plot a 3d graph with animations so that you can make the graph rotate (this will be easier in a local notebook than in google colab)\n",
        "- Create and plot a matrix on a 2d graph.\n",
        "- Create and plot a matrix on a 3d graph.\n",
        "- Plot two vectors that are not collinear on a 2d graph. Calculate the determinant of the 2x2 matrix that these vectors form. How does this determinant relate to the graphical interpretation of the vectors?\n",
        "\n"
      ]
    }
  ]
}